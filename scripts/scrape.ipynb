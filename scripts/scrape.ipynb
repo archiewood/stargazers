{
 "cells": [
  {
   "cell_type": "code",
   "execution_count": null,
   "metadata": {},
   "outputs": [],
   "source": [
    "import requests\n",
    "import csv\n",
    "\n",
    "# Replace with your GitHub username and repository name\n",
    "access_token = input()\n",
    "username = 'evidence-dev'\n",
    "repository = 'evidence'\n",
    "\n",
    "# Define the GitHub API endpoint for stargazers\n",
    "endpoint = f'https://api.github.com/repos/{username}/{repository}/stargazers'\n",
    "\n",
    "# Initialize a list to store user details\n",
    "stargazer_details = []\n",
    "count=1\n",
    "\n",
    "# Create a function to paginate through the stargazers\n",
    "def get_stargazers(url,count):\n",
    "    response = requests.get(url, headers={'Authorization': f'token {access_token}'})\n",
    "    if response.status_code == 200:\n",
    "        stargazers = response.json()\n",
    "        for stargazer in stargazers:\n",
    "            print(count)\n",
    "            count+=1\n",
    "            stargazer_url = stargazer['url']\n",
    "            user_info = requests.get(stargazer_url, headers={'Authorization': f'token {access_token}'})\n",
    "            if user_info.status_code == 200:\n",
    "                stargazer_details.append(user_info.json())\n",
    "        if 'next' in response.links:\n",
    "            get_stargazers(response.links['next']['url'],count)\n",
    "\n",
    "# Start the process\n",
    "get_stargazers(endpoint,count)"
   ]
  },
  {
   "cell_type": "code",
   "execution_count": null,
   "metadata": {},
   "outputs": [],
   "source": [
    "# Save stargazer details to a Parquet file\n",
    "\n",
    "import pandas as pd\n",
    "import pyarrow as pa\n",
    "import pyarrow.parquet as pq\n",
    "\n",
    "df = pd.json_normalize(stargazer_details)\n",
    "parquet_file = '../sources/stargazer_details.parquet'\n",
    "table = pa.Table.from_pandas(df)\n",
    "pq.write_table(table, parquet_file)\n",
    "\n",
    "print(f\"Stargazer details have been saved to {parquet_file}\")"
   ]
  }
 ],
 "metadata": {
  "kernelspec": {
   "display_name": "Python 3",
   "language": "python",
   "name": "python3"
  },
  "language_info": {
   "codemirror_mode": {
    "name": "ipython",
    "version": 3
   },
   "file_extension": ".py",
   "mimetype": "text/x-python",
   "name": "python",
   "nbconvert_exporter": "python",
   "pygments_lexer": "ipython3",
   "version": "3.9.6"
  }
 },
 "nbformat": 4,
 "nbformat_minor": 2
}
